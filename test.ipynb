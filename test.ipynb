{
 "cells": [
  {
   "cell_type": "markdown",
   "metadata": {},
   "source": [
    "list vs tuple"
   ]
  },
  {
   "cell_type": "code",
   "execution_count": 1,
   "metadata": {},
   "outputs": [
    {
     "name": "stdout",
     "output_type": "stream",
     "text": [
      "before changing [1, 2, 3, 4, 5]\n",
      "after changing [1, 2, 3, 50, 5]\n"
     ]
    }
   ],
   "source": [
    "l1 = [1,2,3,4,5]\n",
    "print(\"before changing\",l1)\n",
    "l1[3] = 50\n",
    "print(\"after changing\",l1)"
   ]
  },
  {
   "cell_type": "code",
   "execution_count": null,
   "metadata": {},
   "outputs": [],
   "source": [
    "t1 = (1,2,3,4,5)\n",
    "print(\"before changing\",t1)\n",
    "t1[3] = 50\n",
    "print(\"after changing\",t1)\n",
    "\n"
   ]
  },
  {
   "cell_type": "code",
   "execution_count": 4,
   "metadata": {},
   "outputs": [
    {
     "name": "stdout",
     "output_type": "stream",
     "text": [
      "(1, 2, 3, 50, 5)\n"
     ]
    }
   ],
   "source": [
    "l2=[]\n",
    "for i in t1:\n",
    "    l2.append(i)\n",
    "\n",
    "l2[3]=50\n",
    "t2=()\n",
    "t2=l2\n",
    "print(tuple(t2))"
   ]
  },
  {
   "cell_type": "markdown",
   "metadata": {},
   "source": [
    "Area calculation"
   ]
  },
  {
   "cell_type": "code",
   "execution_count": 1,
   "metadata": {},
   "outputs": [
    {
     "name": "stdout",
     "output_type": "stream",
     "text": [
      "48\n"
     ]
    }
   ],
   "source": [
    "l = 12\n",
    "b = 4\n",
    "area_r = l*b\n",
    "print(area_r)"
   ]
  },
  {
   "cell_type": "code",
   "execution_count": 3,
   "metadata": {},
   "outputs": [
    {
     "name": "stdout",
     "output_type": "stream",
     "text": [
      "78.57142857142857\n",
      "78.57\n"
     ]
    }
   ],
   "source": [
    "r = 5\n",
    "pi = 22/7\n",
    "area_c = pi*r**2\n",
    "print(area_c)\n",
    "print(round(area_c,2))"
   ]
  },
  {
   "cell_type": "code",
   "execution_count": 8,
   "metadata": {},
   "outputs": [
    {
     "name": "stdout",
     "output_type": "stream",
     "text": [
      "25.0\n",
      "25.0\n"
     ]
    }
   ],
   "source": [
    "b= 10\n",
    "h=5\n",
    "area_t=0.5*b*h\n",
    "print(area_t)\n",
    "print(round(area_t,2))"
   ]
  },
  {
   "cell_type": "code",
   "execution_count": 7,
   "metadata": {},
   "outputs": [
    {
     "name": "stdout",
     "output_type": "stream",
     "text": [
      "100\n"
     ]
    }
   ],
   "source": [
    "a = 10\n",
    "area_s= a**2\n",
    "print(area_s)"
   ]
  }
 ],
 "metadata": {
  "kernelspec": {
   "display_name": "Python 3",
   "language": "python",
   "name": "python3"
  },
  "language_info": {
   "codemirror_mode": {
    "name": "ipython",
    "version": 3
   },
   "file_extension": ".py",
   "mimetype": "text/x-python",
   "name": "python",
   "nbconvert_exporter": "python",
   "pygments_lexer": "ipython3",
   "version": "3.13.1"
  }
 },
 "nbformat": 4,
 "nbformat_minor": 2
}
