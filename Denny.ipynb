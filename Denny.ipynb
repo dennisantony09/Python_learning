{
 "cells": [
  {
   "cell_type": "markdown",
   "metadata": {},
   "source": [
    "Area calculation"
   ]
  },
  {
   "cell_type": "code",
   "execution_count": 1,
   "metadata": {},
   "outputs": [
    {
     "name": "stdout",
     "output_type": "stream",
     "text": [
      "48\n"
     ]
    }
   ],
   "source": [
    "#Area of Rectangle\n",
    "l = 12\n",
    "b = 4\n",
    "area_r = l*b\n",
    "print(area_r)"
   ]
  },
  {
   "cell_type": "code",
   "execution_count": 2,
   "metadata": {},
   "outputs": [
    {
     "name": "stdout",
     "output_type": "stream",
     "text": [
      "78.57142857142857\n",
      "78.57\n"
     ]
    }
   ],
   "source": [
    "#Area of Circle\n",
    "r = 5\n",
    "pi = 22/7\n",
    "area_c = pi*r**2\n",
    "print(area_c)\n",
    "print(round(area_c,2))"
   ]
  },
  {
   "cell_type": "code",
   "execution_count": 3,
   "metadata": {},
   "outputs": [
    {
     "name": "stdout",
     "output_type": "stream",
     "text": [
      "25.0\n",
      "25.0\n"
     ]
    }
   ],
   "source": [
    "#Area of Triangle\n",
    "b= 10\n",
    "h=5\n",
    "area_t=0.5*b*h\n",
    "print(area_t)\n",
    "print(round(area_t,2))"
   ]
  },
  {
   "cell_type": "code",
   "execution_count": 4,
   "metadata": {},
   "outputs": [
    {
     "name": "stdout",
     "output_type": "stream",
     "text": [
      "100\n"
     ]
    }
   ],
   "source": [
    "#Area of Square\n",
    "a = 10\n",
    "area_s= a**2\n",
    "print(area_s)"
   ]
  },
  {
   "cell_type": "markdown",
   "metadata": {},
   "source": [
    "SIMPLE INTEREST"
   ]
  },
  {
   "cell_type": "code",
   "execution_count": 5,
   "metadata": {},
   "outputs": [
    {
     "name": "stdout",
     "output_type": "stream",
     "text": [
      "5000.0\n"
     ]
    }
   ],
   "source": [
    "#Simple Interest\n",
    "a=10000\n",
    "b=10\n",
    "c=5\n",
    "si=a*b*c/100\n",
    "print(si)\n"
   ]
  },
  {
   "cell_type": "markdown",
   "metadata": {},
   "source": [
    "Square and Cube of Number "
   ]
  },
  {
   "cell_type": "code",
   "execution_count": 6,
   "metadata": {},
   "outputs": [
    {
     "name": "stdout",
     "output_type": "stream",
     "text": [
      "Square of Number : 100\n",
      "Cube of Number : 1000\n"
     ]
    }
   ],
   "source": [
    "#Square and Cube of Number \n",
    "a=10\n",
    "Square=a**2\n",
    "Cube=a**3\n",
    "print(\"Square of Number :\",Square)\n",
    "print(\"Cube of Number :\",Cube)"
   ]
  },
  {
   "cell_type": "markdown",
   "metadata": {},
   "source": [
    "Creating a List"
   ]
  },
  {
   "cell_type": "code",
   "execution_count": 7,
   "metadata": {},
   "outputs": [
    {
     "name": "stdout",
     "output_type": "stream",
     "text": [
      "[1, 2, 3, 4, 5]\n",
      "['apple', 'banana', 'cherry']\n",
      "[1, 'hello', 3.14, True]\n"
     ]
    }
   ],
   "source": [
    "\n",
    "a = [1, 2, 3, 4, 5]\n",
    "\n",
    "b = ['apple', 'banana', 'cherry']\n",
    "\n",
    "c = [1, 'hello', 3.14, True]\n",
    "\n",
    "print(a)\n",
    "print(b)\n",
    "print(c)"
   ]
  },
  {
   "cell_type": "code",
   "execution_count": 8,
   "metadata": {},
   "outputs": [
    {
     "name": "stdout",
     "output_type": "stream",
     "text": [
      "[1, 2, 3, 'apple', 4.5]\n"
     ]
    }
   ],
   "source": [
    "a = list((1, 2, 3, 'apple', 4.5))  \n",
    "print(a)"
   ]
  },
  {
   "cell_type": "code",
   "execution_count": 9,
   "metadata": {},
   "outputs": [
    {
     "name": "stdout",
     "output_type": "stream",
     "text": [
      "30\n",
      "40\n"
     ]
    }
   ],
   "source": [
    "a = [10, 20, 30, 40, 50]\n",
    "print(a[2])    \n",
    "print(a[-2])"
   ]
  },
  {
   "cell_type": "code",
   "execution_count": 10,
   "metadata": {},
   "outputs": [
    {
     "name": "stdout",
     "output_type": "stream",
     "text": [
      "['apple', 'banana', 'cherry', 'orange']\n"
     ]
    }
   ],
   "source": [
    "list = [\"apple\", \"banana\", \"cherry\", \"orange\", \"kiwi\", \"melon\", \"mango\"]\n",
    "print(list[:4])"
   ]
  },
  {
   "cell_type": "code",
   "execution_count": 11,
   "metadata": {},
   "outputs": [
    {
     "name": "stdout",
     "output_type": "stream",
     "text": [
      "['orange', 'kiwi', 'melon']\n"
     ]
    }
   ],
   "source": [
    "list = [\"apple\", \"banana\", \"cherry\", \"orange\", \"kiwi\", \"melon\", \"mango\"]\n",
    "print(list[-4:-1])"
   ]
  },
  {
   "cell_type": "code",
   "execution_count": 12,
   "metadata": {},
   "outputs": [
    {
     "name": "stdout",
     "output_type": "stream",
     "text": [
      "['apple', 'Mango', 'cherry']\n"
     ]
    }
   ],
   "source": [
    "list = [\"apple\", \"banana\", \"cherry\"]\n",
    "list[1] = \"Mango\"\n",
    "print(list)"
   ]
  },
  {
   "cell_type": "code",
   "execution_count": 13,
   "metadata": {},
   "outputs": [
    {
     "name": "stdout",
     "output_type": "stream",
     "text": [
      "['apple', 'banana', 'cherry', 'Mango']\n"
     ]
    }
   ],
   "source": [
    "list = [\"apple\", \"banana\", \"cherry\"]\n",
    "list.append(\"Mango\")\n",
    "print(list)"
   ]
  },
  {
   "cell_type": "code",
   "execution_count": 14,
   "metadata": {},
   "outputs": [
    {
     "name": "stdout",
     "output_type": "stream",
     "text": [
      "['apple', 'Mango', 'banana', 'cherry']\n"
     ]
    }
   ],
   "source": [
    "a=[\"apple\", \"banana\", \"cherry\"]\n",
    "a.insert(1, \"Mango\")\n",
    "print(a)"
   ]
  },
  {
   "cell_type": "code",
   "execution_count": 15,
   "metadata": {},
   "outputs": [
    {
     "name": "stdout",
     "output_type": "stream",
     "text": [
      "['apple', 'banana', 'cherry', 'Dragonfruit', 'Guava', 'Grapes']\n"
     ]
    }
   ],
   "source": [
    "a=[\"apple\", \"banana\", \"cherry\"]\n",
    "b=[\"Dragonfruit\",\"Guava\",\"Grapes\"]\n",
    "a.extend(b)\n",
    "print(a)"
   ]
  },
  {
   "cell_type": "code",
   "execution_count": 16,
   "metadata": {},
   "outputs": [
    {
     "name": "stdout",
     "output_type": "stream",
     "text": [
      "['apple', 'cherry']\n"
     ]
    }
   ],
   "source": [
    "a=[\"apple\", \"banana\", \"cherry\"]\n",
    "a.remove(\"banana\")\n",
    "print(a)"
   ]
  },
  {
   "cell_type": "code",
   "execution_count": 17,
   "metadata": {},
   "outputs": [],
   "source": [
    "x = a.copy()\n",
    "y = x.copy()"
   ]
  },
  {
   "cell_type": "code",
   "execution_count": 18,
   "metadata": {},
   "outputs": [
    {
     "data": {
      "text/plain": [
       "['apple', 'cherry']"
      ]
     },
     "execution_count": 18,
     "metadata": {},
     "output_type": "execute_result"
    }
   ],
   "source": [
    "x"
   ]
  },
  {
   "cell_type": "code",
   "execution_count": 19,
   "metadata": {},
   "outputs": [
    {
     "data": {
      "text/plain": [
       "['apple', 'cherry']"
      ]
     },
     "execution_count": 19,
     "metadata": {},
     "output_type": "execute_result"
    }
   ],
   "source": [
    "y"
   ]
  },
  {
   "cell_type": "code",
   "execution_count": 20,
   "metadata": {},
   "outputs": [
    {
     "data": {
      "text/plain": [
       "['mango', 'cherry']"
      ]
     },
     "execution_count": 20,
     "metadata": {},
     "output_type": "execute_result"
    }
   ],
   "source": [
    "y[0]= 'mango'\n",
    "y"
   ]
  },
  {
   "cell_type": "code",
   "execution_count": 21,
   "metadata": {},
   "outputs": [
    {
     "data": {
      "text/plain": [
       "['apple', 'cherry']"
      ]
     },
     "execution_count": 21,
     "metadata": {},
     "output_type": "execute_result"
    }
   ],
   "source": [
    "a"
   ]
  },
  {
   "cell_type": "code",
   "execution_count": 22,
   "metadata": {},
   "outputs": [
    {
     "data": {
      "text/plain": [
       "['apple', 'cherry']"
      ]
     },
     "execution_count": 22,
     "metadata": {},
     "output_type": "execute_result"
    }
   ],
   "source": [
    "x"
   ]
  },
  {
   "cell_type": "code",
   "execution_count": null,
   "metadata": {},
   "outputs": [],
   "source": []
  },
  {
   "cell_type": "markdown",
   "metadata": {},
   "source": [
    "# **Conditional Statements**"
   ]
  },
  {
   "cell_type": "code",
   "execution_count": 23,
   "metadata": {},
   "outputs": [],
   "source": [
    "marks = int(input(\"Enter marks\" ))"
   ]
  },
  {
   "cell_type": "code",
   "execution_count": 24,
   "metadata": {},
   "outputs": [
    {
     "name": "stdout",
     "output_type": "stream",
     "text": [
      "55\n"
     ]
    }
   ],
   "source": [
    "type(marks)\n",
    "print(marks)"
   ]
  },
  {
   "cell_type": "code",
   "execution_count": 25,
   "metadata": {},
   "outputs": [
    {
     "name": "stdout",
     "output_type": "stream",
     "text": [
      "Grade: F\n"
     ]
    }
   ],
   "source": [
    "# Checking conditions\n",
    "if marks > 90:\n",
    "    print(\"Grade: A\")\n",
    "elif marks > 80:\n",
    "    print(\"Grade: B\")\n",
    "elif marks > 70:\n",
    "    print(\"Grade: C\")\n",
    "elif marks > 60:\n",
    "    print(\"Grade: D\")\n",
    "else:\n",
    "    print(\"Grade: F\")"
   ]
  },
  {
   "cell_type": "code",
   "execution_count": 26,
   "metadata": {},
   "outputs": [
    {
     "name": "stdout",
     "output_type": "stream",
     "text": [
      "Grade: F\n"
     ]
    }
   ],
   "source": [
    "# Checking conditions\n",
    "if marks > 90:\n",
    "    print(\"Grade: A\")\n",
    "if marks > 80:\n",
    "    print(\"Grade: B\")\n",
    "if marks > 70:\n",
    "    print(\"Grade: C\")\n",
    "if marks > 60:\n",
    "    print(\"Grade: D\")\n",
    "else:\n",
    "    print(\"Grade: F\")"
   ]
  },
  {
   "cell_type": "markdown",
   "metadata": {},
   "source": [
    "# **Functions**"
   ]
  },
  {
   "cell_type": "code",
   "execution_count": 27,
   "metadata": {},
   "outputs": [],
   "source": [
    "def basic_ar(num1=1, num2=1):\n",
    "    s = num1+num2\n",
    "    dif=num1-num2\n",
    "    mul=num1*num2\n",
    "    div=num1/num2\n",
    "    return [s, dif, mul, div]\n"
   ]
  },
  {
   "cell_type": "code",
   "execution_count": 28,
   "metadata": {},
   "outputs": [],
   "source": [
    "addition = basic_ar()"
   ]
  },
  {
   "cell_type": "code",
   "execution_count": 29,
   "metadata": {},
   "outputs": [
    {
     "name": "stdout",
     "output_type": "stream",
     "text": [
      "[2, 0, 1, 1.0]\n"
     ]
    }
   ],
   "source": [
    "print(addition)"
   ]
  },
  {
   "cell_type": "code",
   "execution_count": 30,
   "metadata": {},
   "outputs": [
    {
     "data": {
      "text/plain": [
       "list"
      ]
     },
     "execution_count": 30,
     "metadata": {},
     "output_type": "execute_result"
    }
   ],
   "source": [
    "type(addition)"
   ]
  },
  {
   "cell_type": "markdown",
   "metadata": {},
   "source": [
    "# **Loop**"
   ]
  },
  {
   "cell_type": "code",
   "execution_count": 31,
   "metadata": {},
   "outputs": [
    {
     "name": "stdout",
     "output_type": "stream",
     "text": [
      "Hi\n",
      "Hi\n",
      "Hi\n",
      "Hi\n",
      "Hi\n",
      "Hi\n",
      "Hi\n",
      "Hi\n",
      "Hi\n",
      "Hi\n"
     ]
    }
   ],
   "source": [
    "print(\"Hi\")\n",
    "print(\"Hi\")\n",
    "print(\"Hi\")\n",
    "print(\"Hi\")\n",
    "print(\"Hi\")\n",
    "print(\"Hi\")\n",
    "print(\"Hi\")\n",
    "print(\"Hi\")\n",
    "print(\"Hi\")\n",
    "print(\"Hi\")"
   ]
  },
  {
   "cell_type": "code",
   "execution_count": 32,
   "metadata": {},
   "outputs": [
    {
     "name": "stdout",
     "output_type": "stream",
     "text": [
      "Hii-1\n",
      "Hii-2\n",
      "Hii-3\n",
      "Hii-4\n",
      "Hii-5\n",
      "Hii-6\n",
      "Hii-7\n",
      "Hii-8\n",
      "Hii-9\n",
      "Hii-10\n",
      "Hii-11\n",
      "Hii-12\n",
      "Hii-13\n",
      "Hii-14\n",
      "Hii-15\n",
      "Hii-16\n",
      "Hii-17\n",
      "Hii-18\n",
      "Hii-19\n",
      "Hii-20\n",
      "Hii-21\n",
      "Hii-22\n",
      "Hii-23\n",
      "Hii-24\n",
      "Hii-25\n",
      "Hii-26\n",
      "Hii-27\n",
      "Hii-28\n",
      "Hii-29\n",
      "Hii-30\n",
      "Hii-31\n",
      "Hii-32\n",
      "Hii-33\n",
      "Hii-34\n",
      "Hii-35\n",
      "Hii-36\n",
      "Hii-37\n",
      "Hii-38\n",
      "Hii-39\n",
      "Hii-40\n",
      "Hii-41\n",
      "Hii-42\n",
      "Hii-43\n",
      "Hii-44\n",
      "Hii-45\n",
      "Hii-46\n",
      "Hii-47\n",
      "Hii-48\n",
      "Hii-49\n",
      "Hii-50\n",
      "Hii-51\n",
      "Hii-52\n",
      "Hii-53\n",
      "Hii-54\n",
      "Hii-55\n",
      "Hii-56\n",
      "Hii-57\n",
      "Hii-58\n",
      "Hii-59\n",
      "Hii-60\n",
      "Hii-61\n",
      "Hii-62\n",
      "Hii-63\n",
      "Hii-64\n",
      "Hii-65\n",
      "Hii-66\n",
      "Hii-67\n",
      "Hii-68\n",
      "Hii-69\n",
      "Hii-70\n",
      "Hii-71\n",
      "Hii-72\n",
      "Hii-73\n",
      "Hii-74\n",
      "Hii-75\n",
      "Hii-76\n",
      "Hii-77\n",
      "Hii-78\n",
      "Hii-79\n",
      "Hii-80\n",
      "Hii-81\n",
      "Hii-82\n",
      "Hii-83\n",
      "Hii-84\n",
      "Hii-85\n",
      "Hii-86\n",
      "Hii-87\n",
      "Hii-88\n",
      "Hii-89\n",
      "Hii-90\n",
      "Hii-91\n",
      "Hii-92\n",
      "Hii-93\n",
      "Hii-94\n",
      "Hii-95\n",
      "Hii-96\n",
      "Hii-97\n",
      "Hii-98\n",
      "Hii-99\n",
      "Hii-100\n"
     ]
    }
   ],
   "source": [
    "counter = 1\n",
    "while counter<=100:\n",
    "    print(\"Hii\",counter, sep=\"-\")\n",
    "    counter=counter+1"
   ]
  },
  {
   "cell_type": "code",
   "execution_count": 33,
   "metadata": {},
   "outputs": [
    {
     "name": "stdout",
     "output_type": "stream",
     "text": [
      "hii-1\n",
      "hii-2\n",
      "hii-3\n",
      "hii-4\n",
      "hii-5\n",
      "hii-6\n",
      "hii-7\n",
      "hii-8\n",
      "hii-9\n",
      "hii-10\n",
      "hii-11\n",
      "hii-12\n",
      "hii-13\n",
      "hii-14\n",
      "hii-15\n",
      "hii-16\n",
      "hii-17\n",
      "hii-18\n",
      "hii-19\n",
      "hii-20\n",
      "hii-21\n",
      "hii-22\n",
      "hii-23\n",
      "hii-24\n",
      "hii-25\n",
      "hii-26\n",
      "hii-27\n",
      "hii-28\n",
      "hii-29\n",
      "hii-30\n",
      "hii-31\n",
      "hii-32\n",
      "hii-33\n",
      "hii-34\n",
      "hii-35\n",
      "hii-36\n",
      "hii-37\n",
      "hii-38\n",
      "hii-39\n",
      "hii-40\n",
      "hii-41\n",
      "hii-42\n",
      "hii-43\n",
      "hii-44\n",
      "hii-45\n",
      "hii-46\n",
      "hii-47\n",
      "hii-48\n",
      "hii-49\n",
      "hii-50\n",
      "hii-51\n",
      "hii-52\n",
      "hii-53\n",
      "hii-54\n",
      "hii-55\n",
      "hii-56\n",
      "hii-57\n",
      "hii-58\n",
      "hii-59\n",
      "hii-60\n",
      "hii-61\n",
      "hii-62\n",
      "hii-63\n",
      "hii-64\n",
      "hii-65\n",
      "hii-66\n",
      "hii-67\n",
      "hii-68\n",
      "hii-69\n",
      "hii-70\n",
      "hii-71\n",
      "hii-72\n",
      "hii-73\n",
      "hii-74\n",
      "hii-75\n",
      "hii-76\n",
      "hii-77\n",
      "hii-78\n",
      "hii-79\n",
      "hii-80\n",
      "hii-81\n",
      "hii-82\n",
      "hii-83\n",
      "hii-84\n",
      "hii-85\n",
      "hii-86\n",
      "hii-87\n",
      "hii-88\n",
      "hii-89\n",
      "hii-90\n",
      "hii-91\n",
      "hii-92\n",
      "hii-93\n",
      "hii-94\n",
      "hii-95\n",
      "hii-96\n",
      "hii-97\n",
      "hii-98\n",
      "hii-99\n"
     ]
    }
   ],
   "source": [
    "for i in range(1,100):\n",
    "    print(\"hii\",i,sep=\"-\")"
   ]
  },
  {
   "cell_type": "code",
   "execution_count": 34,
   "metadata": {},
   "outputs": [],
   "source": [
    "l1 = [1,2,3] \n",
    "t1 = (4,5,6)\n",
    "abc = \"hello\"\n",
    "de = 100.0"
   ]
  },
  {
   "cell_type": "code",
   "execution_count": 35,
   "metadata": {},
   "outputs": [
    {
     "name": "stdout",
     "output_type": "stream",
     "text": [
      "1\n",
      "2\n",
      "3\n"
     ]
    }
   ],
   "source": [
    "for i in l1:\n",
    "    print(i)"
   ]
  },
  {
   "cell_type": "code",
   "execution_count": 36,
   "metadata": {},
   "outputs": [
    {
     "name": "stdout",
     "output_type": "stream",
     "text": [
      "4\n",
      "5\n",
      "6\n"
     ]
    }
   ],
   "source": [
    "for i in t1:\n",
    "    print(i)"
   ]
  },
  {
   "cell_type": "code",
   "execution_count": 37,
   "metadata": {},
   "outputs": [
    {
     "name": "stdout",
     "output_type": "stream",
     "text": [
      "h\n",
      "e\n",
      "l\n",
      "l\n",
      "o\n"
     ]
    }
   ],
   "source": [
    "for i in abc:\n",
    "    print(i)"
   ]
  },
  {
   "cell_type": "code",
   "execution_count": 38,
   "metadata": {},
   "outputs": [
    {
     "ename": "TypeError",
     "evalue": "'float' object is not iterable",
     "output_type": "error",
     "traceback": [
      "\u001b[1;31m---------------------------------------------------------------------------\u001b[0m",
      "\u001b[1;31mTypeError\u001b[0m                                 Traceback (most recent call last)",
      "Cell \u001b[1;32mIn[38], line 1\u001b[0m\n\u001b[1;32m----> 1\u001b[0m \u001b[38;5;28;43;01mfor\u001b[39;49;00m\u001b[43m \u001b[49m\u001b[43mi\u001b[49m\u001b[43m \u001b[49m\u001b[38;5;129;43;01min\u001b[39;49;00m\u001b[43m \u001b[49m\u001b[43mde\u001b[49m\u001b[43m:\u001b[49m\n\u001b[0;32m      2\u001b[0m \u001b[43m    \u001b[49m\u001b[38;5;28;43mprint\u001b[39;49m\u001b[43m(\u001b[49m\u001b[43mi\u001b[49m\u001b[43m)\u001b[49m\n",
      "\u001b[1;31mTypeError\u001b[0m: 'float' object is not iterable"
     ]
    }
   ],
   "source": [
    "for i in de:\n",
    "    print(i)"
   ]
  },
  {
   "cell_type": "code",
   "execution_count": null,
   "metadata": {},
   "outputs": [],
   "source": [
    "print()"
   ]
  },
  {
   "cell_type": "markdown",
   "metadata": {},
   "source": [
    "# ** Write a program to print numbers from 10 to 1 in reverse order using for loop ** #"
   ]
  },
  {
   "cell_type": "code",
   "execution_count": 47,
   "metadata": {},
   "outputs": [
    {
     "name": "stdout",
     "output_type": "stream",
     "text": [
      "10\n",
      "9\n",
      "8\n",
      "7\n",
      "6\n",
      "5\n",
      "4\n",
      "3\n",
      "2\n"
     ]
    }
   ],
   "source": [
    "for i in range (10,1,-1):\n",
    "    print(i)\n"
   ]
  },
  {
   "cell_type": "markdown",
   "metadata": {},
   "source": [
    "** Write a program to print numbers from 10 to 1 in reverse order using while loop **"
   ]
  },
  {
   "cell_type": "code",
   "execution_count": 53,
   "metadata": {},
   "outputs": [
    {
     "name": "stdout",
     "output_type": "stream",
     "text": [
      "10\n",
      "9\n",
      "8\n",
      "7\n",
      "6\n",
      "5\n",
      "4\n",
      "3\n",
      "2\n",
      "1\n"
     ]
    }
   ],
   "source": [
    "i = 10\n",
    "while i >= 1:  \n",
    "    print(i)\n",
    "    i -= 1 \n"
   ]
  }
 ],
 "metadata": {
  "kernelspec": {
   "display_name": "Python 3",
   "language": "python",
   "name": "python3"
  },
  "language_info": {
   "codemirror_mode": {
    "name": "ipython",
    "version": 3
   },
   "file_extension": ".py",
   "mimetype": "text/x-python",
   "name": "python",
   "nbconvert_exporter": "python",
   "pygments_lexer": "ipython3",
   "version": "3.13.1"
  }
 },
 "nbformat": 4,
 "nbformat_minor": 2
}
